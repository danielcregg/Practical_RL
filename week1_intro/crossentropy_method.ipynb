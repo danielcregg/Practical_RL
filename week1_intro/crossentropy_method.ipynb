{
  "nbformat": 4,
  "nbformat_minor": 0,
  "metadata": {
    "colab": {
      "name": "crossentropy_method.ipynb",
      "version": "0.3.2",
      "provenance": [],
      "toc_visible": true,
      "include_colab_link": true
    },
    "kernelspec": {
      "display_name": "Python [default]",
      "language": "python",
      "name": "python3"
    }
  },
  "cells": [
    {
      "cell_type": "markdown",
      "metadata": {
        "id": "view-in-github",
        "colab_type": "text"
      },
      "source": [
        "<a href=\"https://colab.research.google.com/github/danielcregg/Practical_RL/blob/coursera/week1_intro/crossentropy_method.ipynb\" target=\"_parent\"><img src=\"https://colab.research.google.com/assets/colab-badge.svg\" alt=\"Open In Colab\"/></a>"
      ]
    },
    {
      "metadata": {
        "id": "dIeltBjWHog4",
        "colab_type": "text"
      },
      "cell_type": "markdown",
      "source": [
        "# Crossentropy method\n",
        "\n",
        "This notebook will teach you to solve reinforcement learning problems with crossentropy method."
      ]
    },
    {
      "metadata": {
        "id": "Zgz9ZsZ1Hoj8",
        "colab_type": "code",
        "outputId": "ba837725-3a60-4b8a-dc83-55841454e8e5",
        "colab": {
          "base_uri": "https://localhost:8080/",
          "height": 153
        }
      },
      "cell_type": "code",
      "source": [
        "import gym\n",
        "import numpy as np, pandas as pd\n",
        "\n",
        "env = gym.make(\"Taxi-v2\")\n",
        "env.reset()\n",
        "env.render()"
      ],
      "execution_count": 4,
      "outputs": [
        {
          "output_type": "stream",
          "text": [
            "+---------+\n",
            "|\u001b[34;1mR\u001b[0m: | : :G|\n",
            "| : : : : |\n",
            "| : : : : |\n",
            "| | : | : |\n",
            "|\u001b[35mY\u001b[0m| : |B:\u001b[43m \u001b[0m|\n",
            "+---------+\n",
            "\n"
          ],
          "name": "stdout"
        }
      ]
    },
    {
      "metadata": {
        "id": "vsyVgvXJHokR",
        "colab_type": "code",
        "outputId": "d108b1de-fc5c-4f38-fb3a-a92ba433c705",
        "colab": {
          "base_uri": "https://localhost:8080/",
          "height": 34
        }
      },
      "cell_type": "code",
      "source": [
        "n_states = env.observation_space.n\n",
        "n_actions = env.action_space.n\n",
        "\n",
        "print(\"n_states=%i, n_actions=%i\"%(n_states, n_actions))\n",
        "\n",
        "#Actions (6 in total)\n",
        "\n",
        "#0: move south\n",
        "#1: move north\n",
        "#2: move east\n",
        "#3: move west\n",
        "#4: pickup passenger\n",
        "#5: dropoff passenger"
      ],
      "execution_count": 5,
      "outputs": [
        {
          "output_type": "stream",
          "text": [
            "n_states=500, n_actions=6\n"
          ],
          "name": "stdout"
        }
      ]
    },
    {
      "metadata": {
        "id": "jg37f47mHoke",
        "colab_type": "text"
      },
      "cell_type": "markdown",
      "source": [
        "# Create stochastic policy\n",
        "\n",
        "This time our policy should be a probability distribution.\n",
        "\n",
        "```policy[s,a] = P(take action a | in state s)```\n",
        "\n",
        "Since we still use integer state and action representations, you can use a 2-dimensional array to represent the policy.\n",
        "\n",
        "Please initialize policy __uniformly__, that is, probabililities of all actions should be equal.\n"
      ]
    },
    {
      "metadata": {
        "id": "9o2cOKbIHokh",
        "colab_type": "code",
        "outputId": "7971210c-e83e-4871-f0ac-3b907d7926b1",
        "colab": {
          "base_uri": "https://localhost:8080/",
          "height": 136
        }
      },
      "cell_type": "code",
      "source": [
        "#policy = <your code here! Create an array to store action probabilities> \n",
        "# Divide each action space by number of possible actions as each one is equally likely\n",
        "policy = np.ones([env.env.nS, env.env.nA]) / env.env.nA \n",
        "\n",
        "print(policy)"
      ],
      "execution_count": 6,
      "outputs": [
        {
          "output_type": "stream",
          "text": [
            "[[0.16666667 0.16666667 0.16666667 0.16666667 0.16666667 0.16666667]\n",
            " [0.16666667 0.16666667 0.16666667 0.16666667 0.16666667 0.16666667]\n",
            " [0.16666667 0.16666667 0.16666667 0.16666667 0.16666667 0.16666667]\n",
            " ...\n",
            " [0.16666667 0.16666667 0.16666667 0.16666667 0.16666667 0.16666667]\n",
            " [0.16666667 0.16666667 0.16666667 0.16666667 0.16666667 0.16666667]\n",
            " [0.16666667 0.16666667 0.16666667 0.16666667 0.16666667 0.16666667]]\n"
          ],
          "name": "stdout"
        }
      ]
    },
    {
      "metadata": {
        "id": "7IbWDK2VHokr",
        "colab_type": "code",
        "colab": {}
      },
      "cell_type": "code",
      "source": [
        "assert type(policy) in (np.ndarray,np.matrix)\n",
        "assert np.allclose(policy,1./n_actions)\n",
        "assert np.allclose(np.sum(policy,axis=1), 1)"
      ],
      "execution_count": 0,
      "outputs": []
    },
    {
      "metadata": {
        "id": "Qsl0l7nkHoky",
        "colab_type": "text"
      },
      "cell_type": "markdown",
      "source": [
        "# Play the game\n",
        "\n",
        "Just like before, but we also record all states and actions we took."
      ]
    },
    {
      "metadata": {
        "id": "efiaoHblHok0",
        "colab_type": "code",
        "colab": {}
      },
      "cell_type": "code",
      "source": [
        "def generate_session(policy,t_max=10**4):\n",
        "    \"\"\"\n",
        "    Play game until end or for t_max ticks.\n",
        "    :param policy: an array of shape [n_states,n_actions] with action probabilities\n",
        "    :returns: list of states, list of actions and sum of rewards\n",
        "    \"\"\"\n",
        "    states,actions = [],[]\n",
        "    total_reward = 0.\n",
        "    \n",
        "    s = env.reset()\n",
        "    \n",
        "    for t in range(t_max):\n",
        "        \n",
        "        #a = <sample action from policy (hint: use np.random.choice)>\n",
        "        a = np.random.choice(np.arange(n_actions),p=policy[s])\n",
        "        \n",
        "        new_s, r, done, info = env.step(a)\n",
        "        \n",
        "        #Record state, action and add up reward to states,actions and total_reward accordingly. \n",
        "        states.append(s)\n",
        "        actions.append(a)\n",
        "        total_reward += r\n",
        "        \n",
        "        s = new_s\n",
        "        if done:\n",
        "            break\n",
        "    return states, actions, total_reward\n",
        "        "
      ],
      "execution_count": 0,
      "outputs": []
    },
    {
      "metadata": {
        "id": "3ROakGU9Hok8",
        "colab_type": "code",
        "colab": {}
      },
      "cell_type": "code",
      "source": [
        "s,a,r = generate_session(policy)\n",
        "assert type(s) == type(a) == list\n",
        "assert len(s) == len(a)\n",
        "assert type(r) in [float,np.float]"
      ],
      "execution_count": 0,
      "outputs": []
    },
    {
      "metadata": {
        "id": "DMgnPNZ_HolJ",
        "colab_type": "code",
        "outputId": "0d41c186-86f0-4e1c-f023-48d45b8b1a39",
        "colab": {
          "base_uri": "https://localhost:8080/",
          "height": 282
        }
      },
      "cell_type": "code",
      "source": [
        "#let's see the initial reward distribution\n",
        "import matplotlib.pyplot as plt\n",
        "%matplotlib inline\n",
        "\n",
        "sample_rewards = [generate_session(policy,t_max=1000)[-1] for _ in range(200)]\n",
        "\n",
        "#print(sorted(sample_rewards))\n",
        "\n",
        "plt.hist(sample_rewards,bins=20);\n",
        "plt.vlines([np.percentile(sample_rewards, 50)], [0], [100], label=\"50'th percentile\", color='green')\n",
        "plt.vlines([np.percentile(sample_rewards, 90)], [0], [100], label=\"90'th percentile\", color='red')\n",
        "plt.legend()"
      ],
      "execution_count": 10,
      "outputs": [
        {
          "output_type": "execute_result",
          "data": {
            "text/plain": [
              "<matplotlib.legend.Legend at 0x7f07d9695940>"
            ]
          },
          "metadata": {
            "tags": []
          },
          "execution_count": 10
        },
        {
          "output_type": "display_data",
          "data": {
            "image/png": "[encoded data removed]",
            "text/plain": [
              "<Figure size 432x288 with 1 Axes>"
            ]
          },
          "metadata": {
            "tags": []
          }
        }
      ]
    },
    {
      "metadata": {
        "id": "1XPAKDC6HolU",
        "colab_type": "text"
      },
      "cell_type": "markdown",
      "source": [
        "### Crossentropy method steps (2pts)"
      ]
    },
    {
      "metadata": {
        "id": "HV6kL5dZHolb",
        "colab_type": "code",
        "colab": {}
      },
      "cell_type": "code",
      "source": [
        "def select_elites(states_batch,actions_batch,rewards_batch,percentile=50):\n",
        "    \"\"\"\n",
        "    Select states and actions from games that have rewards >= percentile\n",
        "    :param states_batch: list of lists of states, states_batch[session_i][t]\n",
        "    :param actions_batch: list of lists of actions, actions_batch[session_i][t]\n",
        "    :param rewards_batch: list of rewards, rewards_batch[session_i][t]\n",
        "    \n",
        "    :returns: elite_states,elite_actions, both 1D lists of states and respective actions from elite sessions\n",
        "    \n",
        "    Please return elite states and actions in their original order \n",
        "    [i.e. sorted by session number and timestep within session]\n",
        "    \n",
        "    If you're confused, see examples below. Please don't assume that states are integers (they'll get different later).\n",
        "    \"\"\"\n",
        "    \n",
        "    #reward_threshold = <Compute minimum reward for elite sessions. Hint: use np.percentile>\n",
        "    reward_threshold = np.percentile(rewards_batch,percentile)\n",
        "    #print(\"Reward Threshold for\",percentile,\"%\",reward_threshold) \n",
        "    \n",
        "    #elite_states  = <your code here>\n",
        "    #elite_actions = <your code here>\n",
        "    elite_states = []\n",
        "    elite_actions = []\n",
        "    \n",
        "    # Check which games produce elite results\n",
        "    elite_game_checklist = (rewards_batch >= reward_threshold).tolist()\n",
        "    #print(elite_game_checklist)\n",
        "    \n",
        "    # Loop through checklist of games and add associated states and actions to elite lists\n",
        "    for game in range(len(elite_game_checklist)):\n",
        "        if(elite_game_checklist[game] == True):\n",
        "            for item in states_batch[game]:\n",
        "              elite_states.append(item)\n",
        "            for item in actions_batch[game]:\n",
        "              elite_actions.append(item)\n",
        "              \n",
        "    return elite_states,elite_actions\n",
        "    "
      ],
      "execution_count": 0,
      "outputs": []
    },
    {
      "metadata": {
        "id": "mxiOZBsVHolj",
        "colab_type": "code",
        "outputId": "bc05421a-0aec-46df-a8e6-9db802d0d219",
        "colab": {
          "base_uri": "https://localhost:8080/",
          "height": 34
        }
      },
      "cell_type": "code",
      "source": [
        "states_batch = [\n",
        "    [1,2,3],   #game1\n",
        "    [4,2,0,2], #game2\n",
        "    [3,1]      #game3\n",
        "]\n",
        "\n",
        "actions_batch = [\n",
        "    [0,2,4],   #game1\n",
        "    [3,2,0,1], #game2\n",
        "    [3,3]      #game3\n",
        "]\n",
        "rewards_batch = [\n",
        "    3,         #game1\n",
        "    4,         #game2\n",
        "    5,         #game3\n",
        "]\n",
        "\n",
        "test_result_0 = select_elites(states_batch, actions_batch, rewards_batch, percentile=0)\n",
        "test_result_40 = select_elites(states_batch, actions_batch, rewards_batch, percentile=30)\n",
        "# Added 50% to test\n",
        "test_result_50 = select_elites(states_batch, actions_batch, rewards_batch, percentile=50)\n",
        "test_result_90 = select_elites(states_batch, actions_batch, rewards_batch, percentile=90)\n",
        "test_result_100 = select_elites(states_batch, actions_batch, rewards_batch, percentile=100)\n",
        "\n",
        "assert np.all(test_result_0[0] == [1, 2, 3, 4, 2, 0, 2, 3, 1])  \\\n",
        "   and np.all(test_result_0[1] == [0, 2, 4, 3, 2, 0, 1, 3, 3]),\\\n",
        "        \"For percentile 0 you should return all states and actions in chronological order\"\n",
        "assert np.all(test_result_40[0] == [4, 2, 0, 2, 3, 1]) and \\\n",
        "        np.all(test_result_40[1] ==[3, 2, 0, 1, 3, 3]),\\\n",
        "        \"For percentile 30 you should only select states/actions from two first\"\n",
        "assert np.all(test_result_90[0] == [3,1]) and \\\n",
        "        np.all(test_result_90[1] == [3,3]),\\\n",
        "        \"For percentile 90 you should only select states/actions from one game\"\n",
        "assert np.all(test_result_100[0] == [3,1]) and\\\n",
        "       np.all(test_result_100[1] == [3,3]),\\\n",
        "        \"Please make sure you use >=, not >. Also double-check how you compute percentile.\"\n",
        "print(\"Ok!\")\n",
        "#print(test_result_0)\n",
        "#print(test_result_40)\n",
        "#print(test_result_50)\n",
        "#print(test_result_90)\n",
        "#print(test_result_100)"
      ],
      "execution_count": 12,
      "outputs": [
        {
          "output_type": "stream",
          "text": [
            "Ok!\n"
          ],
          "name": "stdout"
        }
      ]
    },
    {
      "metadata": {
        "id": "_bjrKVtEHolr",
        "colab_type": "code",
        "colab": {}
      },
      "cell_type": "code",
      "source": [
        "def update_policy(elite_states,elite_actions):\n",
        "    \"\"\"\n",
        "    Given old policy and a list of elite states/actions from select_elites,\n",
        "    return new updated policy where each action probability is proportional to\n",
        "    \n",
        "    policy[s_i,a_i] ~ #[occurences of si and ai in elite states/actions]\n",
        "    \n",
        "    Don't forget to normalize policy to get valid probabilities and handle 0/0 case.\n",
        "    In case you never visited a state, set probabilities for all actions to 1./n_actions\n",
        "    \n",
        "    :param elite_states: 1D list of states from elite sessions\n",
        "    :param elite_actions: 1D list of actions from elite sessions\n",
        "    \n",
        "    \"\"\"\n",
        "    # Create new policy array\n",
        "    new_policy = np.zeros([n_states,n_actions])\n",
        "    \n",
        "    #<Your code here: update probabilities for actions given elite states & actions>\n",
        "    for (s,a) in zip(elite_states,elite_actions):\n",
        "        new_policy[s,a] += 1\n",
        "    \n",
        "    #for values in zip(elite_states,elite_actions):\n",
        "    #    print(values)  # print each tuples\n",
        "    \n",
        "    #np.set_printoptions(threshold=10000)\n",
        "    #print(new_policy)\n",
        "    \n",
        "  \n",
        "    for s in range(n_states):\n",
        "        if s in elite_states:\n",
        "            #normalize policy\n",
        "            new_policy[s] /= np.sum(new_policy[s])\n",
        "            #print(new_policy[s]) \n",
        "        #Don't forget to set 1/n_actions for all actions in unvisited states.\n",
        "        if s not in elite_states:\n",
        "            new_policy[s] = np.ones(n_actions)/n_actions\n",
        "    \n",
        "    return new_policy"
      ],
      "execution_count": 0,
      "outputs": []
    },
    {
      "metadata": {
        "id": "54JaqvwfHolz",
        "colab_type": "code",
        "outputId": "1bf6dc4e-9a1d-49c4-9bfa-6342956c9a9b",
        "colab": {
          "base_uri": "https://localhost:8080/",
          "height": 34
        }
      },
      "cell_type": "code",
      "source": [
        "\n",
        "elite_states, elite_actions = ([1, 2, 3, 4, 2, 0, 2, 3, 1], [0, 2, 4, 3, 2, 0, 1, 3, 3])\n",
        "#elite_states  = [1, 2, 3, 4, 2, 0, 2, 3, 1]\n",
        "#elite_actions = [0, 2, 4, 3, 2, 0, 1, 3, 3]\n",
        "\n",
        "new_policy = update_policy(elite_states,elite_actions)\n",
        "\n",
        "assert np.isfinite(new_policy).all(), \"Your new policy contains NaNs or +-inf. Make sure you don't divide by zero.\"\n",
        "assert np.all(new_policy>=0), \"Your new policy can't have negative action probabilities\"\n",
        "assert np.allclose(new_policy.sum(axis=-1),1), \"Your new policy should be a valid probability distribution over actions\"\n",
        "reference_answer = np.array([\n",
        "       [ 1.        ,  0.        ,  0.        ,  0.        ,  0.        ],\n",
        "       [ 0.5       ,  0.        ,  0.        ,  0.5       ,  0.        ],\n",
        "       [ 0.        ,  0.33333333,  0.66666667,  0.        ,  0.        ],\n",
        "       [ 0.        ,  0.        ,  0.        ,  0.5       ,  0.5       ]])\n",
        "assert np.allclose(new_policy[:4,:5],reference_answer)\n",
        "#print(new_policy)\n",
        "print(\"Ok!\")"
      ],
      "execution_count": 22,
      "outputs": [
        {
          "output_type": "stream",
          "text": [
            "Ok!\n"
          ],
          "name": "stdout"
        }
      ]
    },
    {
      "metadata": {
        "id": "R13gMI_lHol4",
        "colab_type": "text"
      },
      "cell_type": "markdown",
      "source": [
        "# Training loop\n",
        "Generate sessions, select N best and fit to those."
      ]
    },
    {
      "metadata": {
        "id": "eQ93jjVxHol7",
        "colab_type": "code",
        "colab": {}
      },
      "cell_type": "code",
      "source": [
        "from IPython.display import clear_output\n",
        "\n",
        "def show_progress(batch_rewards, log, percentile, reward_range=[-990,+10]):\n",
        "    \"\"\"\n",
        "    A convenience function that displays training progress. \n",
        "    No cool math here, just charts.\n",
        "    \"\"\"\n",
        "    \n",
        "    mean_reward, threshold = np.mean(batch_rewards), np.percentile(batch_rewards, percentile)\n",
        "    log.append([mean_reward,threshold])\n",
        "\n",
        "    clear_output(True)\n",
        "    print(\"mean reward = %.3f, threshold=%.3f\"%(mean_reward, threshold))\n",
        "    plt.figure(figsize=[8,4])\n",
        "    plt.subplot(1,2,1)\n",
        "    plt.plot(list(zip(*log))[0], label='Mean rewards')\n",
        "    plt.plot(list(zip(*log))[1], label='Reward thresholds')\n",
        "    plt.legend()\n",
        "    plt.grid()\n",
        "    \n",
        "    plt.subplot(1,2,2)\n",
        "    plt.hist(batch_rewards,range=reward_range);\n",
        "    plt.vlines([np.percentile(batch_rewards, percentile)], [0], [100], label=\"percentile\", color='red')\n",
        "    plt.legend()\n",
        "    plt.grid()\n",
        "\n",
        "    plt.show()\n"
      ],
      "execution_count": 0,
      "outputs": []
    },
    {
      "metadata": {
        "id": "LO_b5STdHomF",
        "colab_type": "code",
        "colab": {}
      },
      "cell_type": "code",
      "source": [
        "#reset policy just in case\n",
        "policy = np.ones([n_states, n_actions]) / n_actions "
      ],
      "execution_count": 0,
      "outputs": []
    },
    {
      "metadata": {
        "id": "W-N5Lo7fHomL",
        "colab_type": "code",
        "outputId": "1e7df10f-ea02-422a-f622-81e310c3c683",
        "colab": {
          "base_uri": "https://localhost:8080/",
          "height": 282
        }
      },
      "cell_type": "code",
      "source": [
        "n_sessions = 250  #sample this many sessions\n",
        "percentile = 50  #take this percent of session with highest rewards\n",
        "learning_rate = 0.5  #add this thing to all counts for stability\n",
        "\n",
        "log = []\n",
        "\n",
        "for i in range(100):\n",
        "    \n",
        "    #%time sessions = [<generate a list of n_sessions new sessions>]\n",
        "    %time sessions = [generate_session(policy) for _ in range(n_sessions)]\n",
        "    \n",
        "    batch_states,batch_actions,batch_rewards = zip(*sessions)\n",
        "\n",
        "    #elite_states, elite_actions = <select elite states/actions>\n",
        "    elite_states, elite_actions = select_elites(batch_states,batch_actions,batch_rewards)\n",
        "    \n",
        "    #new_policy = <compute new policy>\n",
        "    new_policy = update_policy(elite_states=elite_states,elite_actions=elite_actions)\n",
        "    \n",
        "    policy = learning_rate * new_policy + (1-learning_rate) * policy\n",
        "    \n",
        "    #display results on chart\n",
        "    show_progress(batch_rewards, log, percentile)"
      ],
      "execution_count": 25,
      "outputs": [
        {
          "output_type": "stream",
          "text": [
            "mean reward = -50.624, threshold=7.000\n"
          ],
          "name": "stdout"
        },
        {
          "output_type": "display_data",
          "data": {
            "image/png": "[encoded data removed]",
            "text/plain": [
              "<Figure size 576x288 with 2 Axes>"
            ]
          },
          "metadata": {
            "tags": []
          }
        }
      ]
    },
    {
      "metadata": {
        "id": "vX_l2cdhHomV",
        "colab_type": "text"
      },
      "cell_type": "markdown",
      "source": [
        "### Reflecting on results\n",
        "\n",
        "You may have noticed that the taxi problem quickly converges from <-1000 to a near-optimal score and then descends back into -50/-100. This is in part because the environment has some innate randomness. Namely, the starting points of passenger/driver change from episode to episode.\n",
        "\n",
        "In case CEM failed to learn how to win from one distinct starting point, it will siply discard it because no sessions from that starting point will make it into the \"elites\".\n",
        "\n",
        "To mitigate that problem, you can either reduce the threshold for elite sessions (duct tape way) or  change the way you evaluate strategy (theoretically correct way). You can first sample an action for every possible state and then evaluate this choice of actions by running _several_ games and averaging rewards."
      ]
    },
    {
      "metadata": {
        "id": "a1ngGH9yHomf",
        "colab_type": "text"
      },
      "cell_type": "markdown",
      "source": [
        "### Submit to coursera"
      ]
    },
    {
      "metadata": {
        "id": "F0v3Xn7zHomk",
        "colab_type": "code",
        "colab": {
          "base_uri": "https://localhost:8080/",
          "height": 316
        },
        "outputId": "99105ccb-8cdf-487c-ab79-b84384ef85e8"
      },
      "cell_type": "code",
      "source": [
        "from submit import submit_taxi\n",
        "submit_taxi(generate_session, policy, daniel.cregg@gmail.com, iB4yxI5SQv5Jjz3g)"
      ],
      "execution_count": 26,
      "outputs": [
        {
          "output_type": "error",
          "ename": "ModuleNotFoundError",
          "evalue": "ignored",
          "traceback": [
            "\u001b[0;31m---------------------------------------------------------------------------\u001b[0m",
            "\u001b[0;31mModuleNotFoundError\u001b[0m                       Traceback (most recent call last)",
            "\u001b[0;32m<ipython-input-26-ba9131c9c65f>\u001b[0m in \u001b[0;36m<module>\u001b[0;34m()\u001b[0m\n\u001b[0;32m----> 1\u001b[0;31m \u001b[0;32mfrom\u001b[0m \u001b[0msubmit\u001b[0m \u001b[0;32mimport\u001b[0m \u001b[0msubmit_taxi\u001b[0m\u001b[0;34m\u001b[0m\u001b[0;34m\u001b[0m\u001b[0m\n\u001b[0m\u001b[1;32m      2\u001b[0m \u001b[0msubmit_taxi\u001b[0m\u001b[0;34m(\u001b[0m\u001b[0mgenerate_session\u001b[0m\u001b[0;34m,\u001b[0m \u001b[0mpolicy\u001b[0m\u001b[0;34m,\u001b[0m \u001b[0mdaniel\u001b[0m\u001b[0;34m.\u001b[0m\u001b[0mcregg\u001b[0m\u001b[0;34m@\u001b[0m\u001b[0mgmail\u001b[0m\u001b[0;34m.\u001b[0m\u001b[0mcom\u001b[0m\u001b[0;34m,\u001b[0m \u001b[0miB4yxI5SQv5Jjz3g\u001b[0m\u001b[0;34m)\u001b[0m\u001b[0;34m\u001b[0m\u001b[0;34m\u001b[0m\u001b[0m\n",
            "\u001b[0;31mModuleNotFoundError\u001b[0m: No module named 'submit'",
            "",
            "\u001b[0;31m---------------------------------------------------------------------------\u001b[0;32m\nNOTE: If your import is failing due to a missing package, you can\nmanually install dependencies using either !pip or !apt.\n\nTo view examples of installing some common dependencies, click the\n\"Open Examples\" button below.\n\u001b[0;31m---------------------------------------------------------------------------\u001b[0m\n"
          ]
        }
      ]
    }
  ]
}